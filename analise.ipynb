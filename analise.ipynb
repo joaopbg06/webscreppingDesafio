{
 "cells": [
  {
   "cell_type": "code",
   "execution_count": 74,
   "metadata": {},
   "outputs": [],
   "source": [
    "import pandas as pd\n",
    "import matplotlib.pyplot as plt\n",
    "\n",
    "\n",
    "df = pd.read_excel('imovel_limpo.xlsx')\n"
   ]
  },
  {
   "cell_type": "code",
   "execution_count": 75,
   "metadata": {},
   "outputs": [
    {
     "data": {
      "text/html": [
       "<div>\n",
       "<style scoped>\n",
       "    .dataframe tbody tr th:only-of-type {\n",
       "        vertical-align: middle;\n",
       "    }\n",
       "\n",
       "    .dataframe tbody tr th {\n",
       "        vertical-align: top;\n",
       "    }\n",
       "\n",
       "    .dataframe thead th {\n",
       "        text-align: right;\n",
       "    }\n",
       "</style>\n",
       "<table border=\"1\" class=\"dataframe\">\n",
       "  <thead>\n",
       "    <tr style=\"text-align: right;\">\n",
       "      <th></th>\n",
       "      <th>metragem(m²)</th>\n",
       "      <th>quartos</th>\n",
       "      <th>banheiros</th>\n",
       "      <th>vagas</th>\n",
       "      <th>valor</th>\n",
       "      <th>nomeRua</th>\n",
       "      <th>condominio</th>\n",
       "      <th>iptu</th>\n",
       "    </tr>\n",
       "  </thead>\n",
       "  <tbody>\n",
       "    <tr>\n",
       "      <th>0</th>\n",
       "      <td>530</td>\n",
       "      <td>5</td>\n",
       "      <td>6</td>\n",
       "      <td>0</td>\n",
       "      <td>5000000</td>\n",
       "      <td>Rua não encontrada</td>\n",
       "      <td>0</td>\n",
       "      <td>0</td>\n",
       "    </tr>\n",
       "    <tr>\n",
       "      <th>1</th>\n",
       "      <td>562</td>\n",
       "      <td>0</td>\n",
       "      <td>0</td>\n",
       "      <td>0</td>\n",
       "      <td>285000</td>\n",
       "      <td>Rua alice cintra bormam</td>\n",
       "      <td>1476</td>\n",
       "      <td>195</td>\n",
       "    </tr>\n",
       "    <tr>\n",
       "      <th>2</th>\n",
       "      <td>72</td>\n",
       "      <td>2</td>\n",
       "      <td>2</td>\n",
       "      <td>1</td>\n",
       "      <td>290000</td>\n",
       "      <td>Rua estrela velha</td>\n",
       "      <td>0</td>\n",
       "      <td>0</td>\n",
       "    </tr>\n",
       "    <tr>\n",
       "      <th>3</th>\n",
       "      <td>208</td>\n",
       "      <td>0</td>\n",
       "      <td>0</td>\n",
       "      <td>0</td>\n",
       "      <td>100000</td>\n",
       "      <td>Rua virtude lopes de freitas</td>\n",
       "      <td>0</td>\n",
       "      <td>0</td>\n",
       "    </tr>\n",
       "    <tr>\n",
       "      <th>4</th>\n",
       "      <td>170</td>\n",
       "      <td>4</td>\n",
       "      <td>1</td>\n",
       "      <td>0</td>\n",
       "      <td>350000</td>\n",
       "      <td>Rua não encontrada</td>\n",
       "      <td>0</td>\n",
       "      <td>0</td>\n",
       "    </tr>\n",
       "    <tr>\n",
       "      <th>...</th>\n",
       "      <td>...</td>\n",
       "      <td>...</td>\n",
       "      <td>...</td>\n",
       "      <td>...</td>\n",
       "      <td>...</td>\n",
       "      <td>...</td>\n",
       "      <td>...</td>\n",
       "      <td>...</td>\n",
       "    </tr>\n",
       "    <tr>\n",
       "      <th>100</th>\n",
       "      <td>360</td>\n",
       "      <td>4</td>\n",
       "      <td>6</td>\n",
       "      <td>8</td>\n",
       "      <td>2350000</td>\n",
       "      <td>Rua república do iraque</td>\n",
       "      <td>0</td>\n",
       "      <td>1375</td>\n",
       "    </tr>\n",
       "    <tr>\n",
       "      <th>101</th>\n",
       "      <td>70</td>\n",
       "      <td>2</td>\n",
       "      <td>1</td>\n",
       "      <td>1</td>\n",
       "      <td>620000</td>\n",
       "      <td>Rua sete de outubro</td>\n",
       "      <td>740</td>\n",
       "      <td>200</td>\n",
       "    </tr>\n",
       "    <tr>\n",
       "      <th>102</th>\n",
       "      <td>37</td>\n",
       "      <td>0</td>\n",
       "      <td>1</td>\n",
       "      <td>1</td>\n",
       "      <td>223000</td>\n",
       "      <td>Rua dona elisa fláquer</td>\n",
       "      <td>400</td>\n",
       "      <td>0</td>\n",
       "    </tr>\n",
       "    <tr>\n",
       "      <th>103</th>\n",
       "      <td>397</td>\n",
       "      <td>1</td>\n",
       "      <td>8</td>\n",
       "      <td>7</td>\n",
       "      <td>1300000</td>\n",
       "      <td>Rua albertina nascimento</td>\n",
       "      <td>0</td>\n",
       "      <td>586</td>\n",
       "    </tr>\n",
       "    <tr>\n",
       "      <th>104</th>\n",
       "      <td>289</td>\n",
       "      <td>3</td>\n",
       "      <td>3</td>\n",
       "      <td>2</td>\n",
       "      <td>498000</td>\n",
       "      <td>Rua são luiz gonzaga</td>\n",
       "      <td>0</td>\n",
       "      <td>1356</td>\n",
       "    </tr>\n",
       "  </tbody>\n",
       "</table>\n",
       "<p>105 rows × 8 columns</p>\n",
       "</div>"
      ],
      "text/plain": [
       "     metragem(m²)  quartos  banheiros  vagas    valor  \\\n",
       "0             530        5          6      0  5000000   \n",
       "1             562        0          0      0   285000   \n",
       "2              72        2          2      1   290000   \n",
       "3             208        0          0      0   100000   \n",
       "4             170        4          1      0   350000   \n",
       "..            ...      ...        ...    ...      ...   \n",
       "100           360        4          6      8  2350000   \n",
       "101            70        2          1      1   620000   \n",
       "102            37        0          1      1   223000   \n",
       "103           397        1          8      7  1300000   \n",
       "104           289        3          3      2   498000   \n",
       "\n",
       "                          nomeRua  condominio  iptu  \n",
       "0              Rua não encontrada           0     0  \n",
       "1         Rua alice cintra bormam        1476   195  \n",
       "2               Rua estrela velha           0     0  \n",
       "3    Rua virtude lopes de freitas           0     0  \n",
       "4              Rua não encontrada           0     0  \n",
       "..                            ...         ...   ...  \n",
       "100       Rua república do iraque           0  1375  \n",
       "101           Rua sete de outubro         740   200  \n",
       "102        Rua dona elisa fláquer         400     0  \n",
       "103      Rua albertina nascimento           0   586  \n",
       "104          Rua são luiz gonzaga           0  1356  \n",
       "\n",
       "[105 rows x 8 columns]"
      ]
     },
     "metadata": {},
     "output_type": "display_data"
    }
   ],
   "source": [
    "# Visualização \n",
    "display(df)"
   ]
  },
  {
   "cell_type": "code",
   "execution_count": 76,
   "metadata": {},
   "outputs": [
    {
     "name": "stdout",
     "output_type": "stream",
     "text": [
      "A média do tamanho é: 194.03m² \n",
      "A média do tamanho é: 350.79m² \n"
     ]
    }
   ],
   "source": [
    "# a. Qual é a média do tamanho dos imóveis (metros)?\n",
    "\n",
    "media_metragem = df['metragem(m²)'].mean()\n",
    "print(f\"A média do tamanho é: {media_metragem:.02f}m² \" )\n",
    "\n",
    "media_metragem = df2['metragem(m²)'].mean()\n",
    "print(f\"A média do tamanho é: {media_metragem:.02f}m² \" )\n"
   ]
  },
  {
   "cell_type": "code",
   "execution_count": 77,
   "metadata": {},
   "outputs": [
    {
     "name": "stdout",
     "output_type": "stream",
     "text": [
      "A média de quartos é: 2.12\n",
      "A média de banheiros é: 1.99\n",
      "A média de vagas é: 2.30\n"
     ]
    }
   ],
   "source": [
    "# b. Qual a média do número de quartos, banheiros e vagas?\n",
    "\n",
    "media_quartos = df['quartos'].mean()\n",
    "print(f\"A média de quartos é: {media_quartos:.02f}\" )\n",
    "\n",
    "media_banheiros = df['banheiros'].mean()\n",
    "print(f\"A média de banheiros é: {media_banheiros:.02f}\" )\n",
    "\n",
    "media_vaga = df['vagas'].mean()\n",
    "print(f\"A média de vagas é: {media_vaga:.02f}\" )"
   ]
  },
  {
   "cell_type": "code",
   "execution_count": 78,
   "metadata": {},
   "outputs": [
    {
     "name": "stdout",
     "output_type": "stream",
     "text": [
      "A média de iptu é: R$197.18\n",
      "A média de condominio é: R$210.50\n"
     ]
    }
   ],
   "source": [
    "# c. Qual é o valor médio do IPTU e do condomínio?\n",
    "\n",
    "media_iptu = df['iptu'].mean()\n",
    "print(f\"A média de iptu é: R${media_iptu:.02f}\" )\n",
    "\n",
    "media_condominio = df['condominio'].mean()\n",
    "print(f\"A média de condominio é: R${media_condominio:.02f}\" )"
   ]
  },
  {
   "cell_type": "code",
   "execution_count": 79,
   "metadata": {},
   "outputs": [
    {
     "name": "stdout",
     "output_type": "stream",
     "text": [
      "A correlação entre o valor do imóvel entre a metragem é: 0.74\n"
     ]
    }
   ],
   "source": [
    "# d. Existe alguma correlação entre o valor do imóvel e o tamanho em metros quadrados? (A correlação pode ser calculada com a função corr() do Pandas.)\n",
    "\n",
    "correlacao = df['valor'].corr(df['metragem(m²)'])\n",
    "print(f\"A correlação entre o valor do imóvel entre a metragem é: {correlacao:.02f}\" )"
   ]
  },
  {
   "cell_type": "code",
   "execution_count": 80,
   "metadata": {},
   "outputs": [
    {
     "data": {
      "image/png": "[encoded data removed]",
      "text/plain": [
       "<Figure size 1000x500 with 1 Axes>"
      ]
     },
     "metadata": {},
     "output_type": "display_data"
    }
   ],
   "source": [
    "# e. Imóveis maiores têm um IPTU mais alto?\n",
    "\n",
    "metragem_por_iptu = df.groupby('metragem(m²)')['iptu'].mean()\n",
    "\n",
    "metragem_por_iptu.plot(linestyle='-', figsize=(10,5), color='red')\n",
    "plt.title(\"Valor do IPTU confome a metragem\")\n",
    "plt.ylabel('Valor do IPTU (R$)')\n",
    "plt.grid(True)\n",
    "plt.xticks(rotation=0)\n",
    "plt.show()"
   ]
  },
  {
   "cell_type": "code",
   "execution_count": 81,
   "metadata": {},
   "outputs": [
    {
     "data": {
      "image/png": "[encoded data removed]",
      "text/plain": [
       "<Figure size 1000x500 with 1 Axes>"
      ]
     },
     "metadata": {},
     "output_type": "display_data"
    }
   ],
   "source": [
    "# f. A quantidade de vagas de garagem está relacionada ao preço do imóvel?\n",
    "\n",
    "relacao_qntVagas_precoImovel = df.groupby('vagas')['valor'].mean()\n",
    "\n",
    "relacao_qntVagas_precoImovel.plot(kind='bar', figsize=(10,5), colormap='Set2')\n",
    "plt.ylabel('Preço do Imóvel')\n",
    "plt.xlabel('Quantidade de Vagas')\n",
    "plt.grid(axis='y')\n",
    "plt.xticks(rotation=45)\n",
    "plt.show()"
   ]
  },
  {
   "cell_type": "code",
   "execution_count": null,
   "metadata": {},
   "outputs": [],
   "source": [
    "# g. Existem imóveis com valores de metros ou preço muito acima ou abaixo da média?\n",
    "\n",
    "# preços muito altos ou baixos em relação a MÉDIA\n",
    "# metragem muito acima ou abaixo da MÉDIA\n",
    "import numpy as np\n",
    "\n",
    "media_valor = df['valor'].mean()\n",
    "media_metragem = df['metragem(m²)'].mean()\n",
    "\n",
    "valor_q1 = df['valor'].quantile(0.25)\n",
    "valor_q3 = df['valor'].quantile(0.75)\n",
    "valor_iqr = valor_q3 - valor_q1\n",
    "\n",
    "metragem_q1 = df['metragem(m²)'].quantile(0.25)\n",
    "metragem_q3 = df['metragem(m²)'].quantile(0.75)\n",
    "metragem_iqr = metragem_q3 - metragem_q1\n",
    "\n",
    "\n",
    "valor_limite_minimo = valor_q1 - 1.5 * valor_iqr\n",
    "valor_limite_maximo = valor_q3 + 1.5 * valor_iqr\n",
    "\n",
    "metragem_limite_minimo = metragem_q1 - 1.5 * metragem_iqr\n",
    "metragem_limite_maximo = metragem_q3 + 1.5 * metragem_iqr\n",
    "\n",
    "\n",
    "outliers_valor_abaixo = df[df['valor'] < valor_limite_minimo]\n",
    "outliers_valor_acima = df[df['valor'] > valor_limite_maximo]\n",
    "\n",
    "print(f'{valor_limite_maximo, valor_limite_minimo}')\n",
    "\n",
    "print(\"Imóveis com VALOR muito abaixo do esperado:\")\n",
    "display(outliers_valor_abaixo)\n",
    "\n",
    "print(\"Imóveis com VALOR muito acima do esperado:\")\n",
    "display(outliers_valor_acima)\n",
    "\n",
    "\n",
    "\n",
    "# exibição\n",
    "outliers_metragem_abaixo = df[df['metragem(m²)'] < metragem_limite_minimo]\n",
    "outliers_metragem_acima = df[df['metragem(m²)'] > metragem_limite_maximo]\n",
    "\n",
    "print(\"Imóveis com METRAGEM muito abaixo do esperado:\")\n",
    "display(outliers_metragem_abaixo)\n",
    "\n",
    "print(\"Imóveis com METRAGEM muito acima do esperado:\")\n",
    "display(outliers_metragem_acima)\n",
    "\n"
   ]
  }
 ],
 "metadata": {
  "kernelspec": {
   "display_name": "Python 3",
   "language": "python",
   "name": "python3"
  },
  "language_info": {
   "codemirror_mode": {
    "name": "ipython",
    "version": 3
   },
   "file_extension": ".py",
   "mimetype": "text/x-python",
   "name": "python",
   "nbconvert_exporter": "python",
   "pygments_lexer": "ipython3",
   "version": "3.12.1"
  }
 },
 "nbformat": 4,
 "nbformat_minor": 2
}
